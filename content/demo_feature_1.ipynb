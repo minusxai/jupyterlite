{
 "cells": [
  {
   "cell_type": "markdown",
   "metadata": {},
   "source": [
    "<img src=\"https://raw.githubusercontent.com/minusxai/.github/master/profile/logo.png\" alt=\"logo\" width=\"300\"/>\n",
    "\n",
    "**Note: Make sure you have the [minusx chrome extension installed](https://minusx.ai/chrome-extension)**"
   ]
  },
  {
   "cell_type": "code",
   "execution_count": null,
   "metadata": {},
   "outputs": [],
   "source": [
    "# jupyterlite setup stuff\n",
    "import piplite\n",
    "await piplite.install([\"distutils\", \"ipywidgets==7.7.0\", \"bqplot==0.12.30\", \"plotly==5.8.0\"])"
   ]
  },
  {
   "cell_type": "markdown",
   "metadata": {},
   "source": [
    "---\n",
    "\n",
    "# Demo Feature 1: Create New Notebook\n",
    "1. Start from an empty notebook, load data, create some derived columns\n",
    "2. Generate some hypotheses about the data\n",
    "3. Work through an analysis\n",
    "\n"
   ]
  },
  {
   "cell_type": "code",
   "execution_count": null,
   "metadata": {},
   "outputs": [],
   "source": [
    "import pandas as pd\n",
    "import numpy as np\n",
    "from plotly import express as px\n",
    "\n",
    "df = pd.read_csv(\"./data/yc_data.csv\")\n",
    "df"
   ]
  },
  {
   "cell_type": "markdown",
   "metadata": {},
   "source": [
    "---\n",
    "# Things you can try:\n",
    "\n",
    "- Derived Columns\n",
    "  - \"What column might indicate the success of a company? Create a new column with success being true or false\"\n",
    "  - \"Create a column for number of founders\"\n",
    "- Exploration\n",
    "  - \"Plot the number of companies funded per batch\"\n",
    "  - \"Plot the distribution of number of founders\"\n",
    "  - \"What is the average number of cofounders in a YC funded company?\"\n",
    "  - \"Plot the distribution of company name lengths\"\n",
    "  - \"Show me a barplot of company URL top-level-domains\"\n",
    "- Hypothesis generation\n",
    "  - \"Given the data, what might affect the success of a company? Give me 3 hypotheses.\""
   ]
  },
  {
   "cell_type": "code",
   "execution_count": null,
   "metadata": {},
   "outputs": [],
   "source": []
  }
 ],
 "metadata": {
  "kernelspec": {
   "display_name": "Python 3 (ipykernel)",
   "language": "python",
   "name": "python3"
  },
  "language_info": {
   "codemirror_mode": {
    "name": "ipython",
    "version": 3
   },
   "file_extension": ".py",
   "mimetype": "text/x-python",
   "name": "python",
   "nbconvert_exporter": "python",
   "pygments_lexer": "ipython3",
   "version": "3.11.8"
  }
 },
 "nbformat": 4,
 "nbformat_minor": 4
}
